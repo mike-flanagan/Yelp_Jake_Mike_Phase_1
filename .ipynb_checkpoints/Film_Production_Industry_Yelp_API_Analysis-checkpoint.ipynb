{
 "cells": [
  {
   "cell_type": "markdown",
   "metadata": {},
   "source": [
    "<head><h1 align=\"center\">\n",
    "Film Production Industry\n",
    "</h1></head>"
   ]
  },
  {
   "cell_type": "markdown",
   "metadata": {},
   "source": [
    "<head><h3 align=\"center\">Analysis with Insights Provided by the Yelp API</h3></head>"
   ]
  },
  {
   "cell_type": "markdown",
   "metadata": {},
   "source": [
    "For over a century, film, television & media production was ubiquitous in, and almost exclusive to, two major US metropolises: Los Angeles and New York. Over the past several decades, there have been many developments that have cracked this exclusivity: The advent of the internet has increased access to entertainment, while simultaneously inspiring a new generation of creators. Other advances in technology have allowed film-industry-standard production quality to be capable with devices that are commonplace with today's consumer. Further, state governments have begun competing to attract business with tax credits designed to lure productions to within their borders, where no production industry existed before.<br><br>\n",
    "\n",
    "With the help of business insights provided by the Yelp API, we will take a glimpse at this industry, comparing companies that offer production services in a few locations. Out goal is to find what business opportunities appear to be present within this industry, and ultimately, develop a business with what we find.<br><br>\n",
    "\n",
    "If we could create the perfect business, it would be popular and loved to the point of being a house-hold brand, which everyone finds welcome in their lives. The only way to do this is to ensure that the service that we provide is so excellent, that our customers love us with no reservation for the cost, because we would be providing something that is incredibly valuable."
   ]
  },
  {
   "cell_type": "code",
   "execution_count": 2,
   "metadata": {
    "ExecuteTime": {
     "end_time": "2021-07-18T21:24:27.074079Z",
     "start_time": "2021-07-18T21:24:27.067318Z"
    }
   },
   "outputs": [],
   "source": [
    "import json\n",
    "import sys\n",
    "import numpy as np\n",
    "import pandas as pd\n",
    "import csv\n",
    "import seaborn as sns\n",
    "import matplotlib.pyplot as plt \n",
    "\n",
    "import folium\n",
    "%matplotlib inline"
   ]
  },
  {
   "cell_type": "markdown",
   "metadata": {},
   "source": [
    "#### For visitors:"
   ]
  },
  {
   "cell_type": "markdown",
   "metadata": {},
   "source": [
    "- Please import the packages above to run the code throughout the page below.\n",
    "- All of the functions we developed to pull lots of data from the Yelp API are housed in the ```/code``` folder in the main repository. \n",
    "- If you would like to use our functions, you will need your own Yelp API developer client ID and API key, which you may attain [here!](https://www.yelp.com/developers/documentation/v3/get_started)"
   ]
  },
  {
   "cell_type": "markdown",
   "metadata": {},
   "source": [
    "# Our Data Collecting Method"
   ]
  },
  {
   "cell_type": "markdown",
   "metadata": {},
   "source": [
    "We have used our ```yelp_call(_)```, ```parse_data(_)```, and ```call_1000(_)``` functions to fetch all of our business data — \n",
    "- They *call* the Yelp API using user input for ```term```, ```location```, and ```categories```. \n",
    "- From there, they *parse the data* in to a ```python``` list of tuples, with each tuple containing individual business name, address, rating, review count, price, and some other information that can be received by changing the parameters in ```url_params```. \n",
    "- Finally, we use the third function to circumvent the necessity to manually offset our call each time, as the Yelp API only allows a maximum limit of 50 businesses returned with each call.\n",
    "  - After gathering the data from the call, the last function also writes the collected data to a csv in the ```/database``` folder. The file is automatically named using the ```term``` and ```location``` variables which were input by the user at the beginning.\n",
    "\n",
    "We have other functions that we used to call the Yelp API to gather example reviews for each business collected by the above method, which we will come back to later, but for now..."
   ]
  },
  {
   "cell_type": "markdown",
   "metadata": {},
   "source": [
    "Lets read our film production data in to this document."
   ]
  },
  {
   "cell_type": "code",
   "execution_count": 4,
   "metadata": {
    "ExecuteTime": {
     "end_time": "2021-07-18T21:24:54.796869Z",
     "start_time": "2021-07-18T21:24:54.743969Z"
    }
   },
   "outputs": [],
   "source": [
    "df_fp_ny = pd.read_csv('data/Film Production_NYC_CLEAN.csv') \n",
    "df_fp_ny_rv = pd.read_csv('data/Film Production_NYC_reviews.csv')\n",
    "df_fp_la = pd.read_csv('data/Film Production_Los Angeles_CLEAN.csv')\n",
    "df_fp_la_rv = pd.read_csv('data/Film Production_Los Angeles_reviews.csv')\n",
    "df_fp_ga = pd.read_csv('data/Film Production_Atlanta_CLEAN.csv')\n",
    "df_fp_ga_rv = pd.read_csv('data/Film Production_Atlanta_reviews.csv')"
   ]
  },
  {
   "cell_type": "code",
   "execution_count": 3,
   "metadata": {},
   "outputs": [
    {
     "data": {
      "text/html": [
       "<div>\n",
       "<style scoped>\n",
       "    .dataframe tbody tr th:only-of-type {\n",
       "        vertical-align: middle;\n",
       "    }\n",
       "\n",
       "    .dataframe tbody tr th {\n",
       "        vertical-align: top;\n",
       "    }\n",
       "\n",
       "    .dataframe thead th {\n",
       "        text-align: right;\n",
       "    }\n",
       "</style>\n",
       "<table border=\"1\" class=\"dataframe\">\n",
       "  <thead>\n",
       "    <tr style=\"text-align: right;\">\n",
       "      <th></th>\n",
       "      <th>Name</th>\n",
       "      <th>Address</th>\n",
       "      <th>City</th>\n",
       "      <th>Rating</th>\n",
       "      <th>Review Count</th>\n",
       "      <th>Coordinates</th>\n",
       "      <th>Price</th>\n",
       "      <th>Id</th>\n",
       "      <th>Categories</th>\n",
       "    </tr>\n",
       "  </thead>\n",
       "  <tbody>\n",
       "    <tr>\n",
       "      <th>859</th>\n",
       "      <td>DSA Photography by Deepicka Mehta</td>\n",
       "      <td>['Cypress, CA 90630']</td>\n",
       "      <td>Cypress</td>\n",
       "      <td>5.0</td>\n",
       "      <td>11</td>\n",
       "      <td>{'latitude': 33.8180809020996, 'longitude': -1...</td>\n",
       "      <td>NaN</td>\n",
       "      <td>JRaGgoYPxZn3fYR6riZTtw</td>\n",
       "      <td>[{'alias': 'sessionphotography', 'title': 'Ses...</td>\n",
       "    </tr>\n",
       "    <tr>\n",
       "      <th>860</th>\n",
       "      <td>FunLovinCamera</td>\n",
       "      <td>['Glendale, CA 91206']</td>\n",
       "      <td>Glendale</td>\n",
       "      <td>5.0</td>\n",
       "      <td>119</td>\n",
       "      <td>{'latitude': 34.1660842895508, 'longitude': -1...</td>\n",
       "      <td>NaN</td>\n",
       "      <td>HT837BNGI49eAhc1gcGiVg</td>\n",
       "      <td>[{'alias': 'eventphotography', 'title': 'Event...</td>\n",
       "    </tr>\n",
       "    <tr>\n",
       "      <th>861</th>\n",
       "      <td>Rebecca Blue Media</td>\n",
       "      <td>['Rancho Cucamonga, CA 91730']</td>\n",
       "      <td>Rancho Cucamonga</td>\n",
       "      <td>4.5</td>\n",
       "      <td>16</td>\n",
       "      <td>{'latitude': 34.10246, 'longitude': -117.58408}</td>\n",
       "      <td>NaN</td>\n",
       "      <td>OxuwVhB0RM9wxVkMVgHZLg</td>\n",
       "      <td>[{'alias': 'sessionphotography', 'title': 'Ses...</td>\n",
       "    </tr>\n",
       "  </tbody>\n",
       "</table>\n",
       "</div>"
      ],
      "text/plain": [
       "                                  Name                         Address  \\\n",
       "859  DSA Photography by Deepicka Mehta           ['Cypress, CA 90630']   \n",
       "860                     FunLovinCamera          ['Glendale, CA 91206']   \n",
       "861                 Rebecca Blue Media  ['Rancho Cucamonga, CA 91730']   \n",
       "\n",
       "                 City  Rating  Review Count  \\\n",
       "859           Cypress     5.0            11   \n",
       "860          Glendale     5.0           119   \n",
       "861  Rancho Cucamonga     4.5            16   \n",
       "\n",
       "                                           Coordinates  Price  \\\n",
       "859  {'latitude': 33.8180809020996, 'longitude': -1...    NaN   \n",
       "860  {'latitude': 34.1660842895508, 'longitude': -1...    NaN   \n",
       "861    {'latitude': 34.10246, 'longitude': -117.58408}    NaN   \n",
       "\n",
       "                         Id                                         Categories  \n",
       "859  JRaGgoYPxZn3fYR6riZTtw  [{'alias': 'sessionphotography', 'title': 'Ses...  \n",
       "860  HT837BNGI49eAhc1gcGiVg  [{'alias': 'eventphotography', 'title': 'Event...  \n",
       "861  OxuwVhB0RM9wxVkMVgHZLg  [{'alias': 'sessionphotography', 'title': 'Ses...  "
      ]
     },
     "execution_count": 3,
     "metadata": {},
     "output_type": "execute_result"
    }
   ],
   "source": [
    "df_fp_la.tail(3)"
   ]
  },
  {
   "cell_type": "code",
   "execution_count": 4,
   "metadata": {},
   "outputs": [],
   "source": [
    "df_fp_ny = df_fp_ny.iloc[:-4]"
   ]
  },
  {
   "cell_type": "code",
   "execution_count": 5,
   "metadata": {
    "scrolled": true
   },
   "outputs": [
    {
     "data": {
      "text/html": [
       "<div>\n",
       "<style scoped>\n",
       "    .dataframe tbody tr th:only-of-type {\n",
       "        vertical-align: middle;\n",
       "    }\n",
       "\n",
       "    .dataframe tbody tr th {\n",
       "        vertical-align: top;\n",
       "    }\n",
       "\n",
       "    .dataframe thead th {\n",
       "        text-align: right;\n",
       "    }\n",
       "</style>\n",
       "<table border=\"1\" class=\"dataframe\">\n",
       "  <thead>\n",
       "    <tr style=\"text-align: right;\">\n",
       "      <th></th>\n",
       "      <th>Name</th>\n",
       "      <th>Address</th>\n",
       "      <th>City</th>\n",
       "      <th>Rating</th>\n",
       "      <th>Review Count</th>\n",
       "      <th>Coordinates</th>\n",
       "      <th>Price</th>\n",
       "      <th>Id</th>\n",
       "      <th>Categories</th>\n",
       "      <th>Latitude</th>\n",
       "      <th>Longitude</th>\n",
       "    </tr>\n",
       "  </thead>\n",
       "  <tbody>\n",
       "    <tr>\n",
       "      <th>226</th>\n",
       "      <td>Elen's Kids</td>\n",
       "      <td>['1119 Raritan Rd', 'Clark, NJ 07066']</td>\n",
       "      <td>Clark</td>\n",
       "      <td>1.5</td>\n",
       "      <td>21</td>\n",
       "      <td>{'latitude': 40.628659, 'longitude': -74.312986}</td>\n",
       "      <td>NaN</td>\n",
       "      <td>BaCGJ5iiVulv_Ap48DYvdw</td>\n",
       "      <td>[{'alias': 'talentagencies', 'title': 'Talent ...</td>\n",
       "      <td>40.628659</td>\n",
       "      <td>-74.312986</td>\n",
       "    </tr>\n",
       "    <tr>\n",
       "      <th>227</th>\n",
       "      <td>Secret Fire Media</td>\n",
       "      <td>['Wappingers Falls, NY 12590']</td>\n",
       "      <td>Wappingers Falls</td>\n",
       "      <td>4.0</td>\n",
       "      <td>10</td>\n",
       "      <td>{'latitude': 41.59696, 'longitude': -73.91325}</td>\n",
       "      <td>NaN</td>\n",
       "      <td>N6lGBzbtg6SsnOBObYrAZA</td>\n",
       "      <td>[{'alias': 'videographers', 'title': 'Videogra...</td>\n",
       "      <td>41.596960</td>\n",
       "      <td>-73.913250</td>\n",
       "    </tr>\n",
       "    <tr>\n",
       "      <th>228</th>\n",
       "      <td>Karmapants Photography</td>\n",
       "      <td>['Mount Holly, NJ 08060']</td>\n",
       "      <td>Mount Holly</td>\n",
       "      <td>5.0</td>\n",
       "      <td>1</td>\n",
       "      <td>{'latitude': 39.9976539611816, 'longitude': -7...</td>\n",
       "      <td>NaN</td>\n",
       "      <td>UPE_-jJWuZYXA2IB2HuFCQ</td>\n",
       "      <td>[{'alias': 'videofilmproductions', 'title': 'V...</td>\n",
       "      <td>39.997654</td>\n",
       "      <td>-74.784393</td>\n",
       "    </tr>\n",
       "  </tbody>\n",
       "</table>\n",
       "</div>"
      ],
      "text/plain": [
       "                       Name                                 Address  \\\n",
       "226             Elen's Kids  ['1119 Raritan Rd', 'Clark, NJ 07066']   \n",
       "227       Secret Fire Media          ['Wappingers Falls, NY 12590']   \n",
       "228  Karmapants Photography               ['Mount Holly, NJ 08060']   \n",
       "\n",
       "                 City  Rating  Review Count  \\\n",
       "226             Clark     1.5            21   \n",
       "227  Wappingers Falls     4.0            10   \n",
       "228       Mount Holly     5.0             1   \n",
       "\n",
       "                                           Coordinates  Price  \\\n",
       "226   {'latitude': 40.628659, 'longitude': -74.312986}    NaN   \n",
       "227     {'latitude': 41.59696, 'longitude': -73.91325}    NaN   \n",
       "228  {'latitude': 39.9976539611816, 'longitude': -7...    NaN   \n",
       "\n",
       "                         Id  \\\n",
       "226  BaCGJ5iiVulv_Ap48DYvdw   \n",
       "227  N6lGBzbtg6SsnOBObYrAZA   \n",
       "228  UPE_-jJWuZYXA2IB2HuFCQ   \n",
       "\n",
       "                                            Categories   Latitude  Longitude  \n",
       "226  [{'alias': 'talentagencies', 'title': 'Talent ...  40.628659 -74.312986  \n",
       "227  [{'alias': 'videographers', 'title': 'Videogra...  41.596960 -73.913250  \n",
       "228  [{'alias': 'videofilmproductions', 'title': 'V...  39.997654 -74.784393  "
      ]
     },
     "execution_count": 5,
     "metadata": {},
     "output_type": "execute_result"
    }
   ],
   "source": [
    "df_fp_ny.tail(3)"
   ]
  },
  {
   "cell_type": "markdown",
   "metadata": {},
   "source": [
    "Here is a sample of one of our dataframes. As you can see we have information about the **business name, address, city,** as well as **coordinates** just in case we want them (more on that later). \n",
    "\n",
    "We also have Yelp-specific data, such as their **rating, review count, and price bracket** listed on the site, as well as the business ID to identify each company on yelp, and categories. \n",
    "\n",
    "#### We can also notice that not *all* results are exactly what we are looking for. \n",
    "The second-to-last result, Printefex, appears to be a printing company that is more in the industry of office services, rather than production services. Knowing this, we will clean our data to return only appropriate results."
   ]
  },
  {
   "cell_type": "markdown",
   "metadata": {},
   "source": [
    "# Data Cleaning"
   ]
  },
  {
   "cell_type": "markdown",
   "metadata": {},
   "source": [
    "The Yelp data required quite a bit of data cleaning. To understand our process, please refer our ```Data_Cleaning.ipynb``` file, house within the ```code``` folder."
   ]
  },
  {
   "cell_type": "markdown",
   "metadata": {},
   "source": []
  },
  {
   "cell_type": "markdown",
   "metadata": {},
   "source": [
    "# *On to our Analysis!*"
   ]
  },
  {
   "cell_type": "markdown",
   "metadata": {},
   "source": [
    "#### Introductory Analysis of Descriptive Stats:"
   ]
  },
  {
   "cell_type": "code",
   "execution_count": 6,
   "metadata": {
    "scrolled": false
   },
   "outputs": [
    {
     "data": {
      "text/html": [
       "<div>\n",
       "<style scoped>\n",
       "    .dataframe tbody tr th:only-of-type {\n",
       "        vertical-align: middle;\n",
       "    }\n",
       "\n",
       "    .dataframe tbody tr th {\n",
       "        vertical-align: top;\n",
       "    }\n",
       "\n",
       "    .dataframe thead th {\n",
       "        text-align: right;\n",
       "    }\n",
       "</style>\n",
       "<table border=\"1\" class=\"dataframe\">\n",
       "  <thead>\n",
       "    <tr style=\"text-align: right;\">\n",
       "      <th></th>\n",
       "      <th>Rating</th>\n",
       "      <th>Review Count</th>\n",
       "      <th>Price</th>\n",
       "      <th>Latitude</th>\n",
       "      <th>Longitude</th>\n",
       "    </tr>\n",
       "  </thead>\n",
       "  <tbody>\n",
       "    <tr>\n",
       "      <th>count</th>\n",
       "      <td>229.000000</td>\n",
       "      <td>229.000000</td>\n",
       "      <td>6.000000</td>\n",
       "      <td>229.000000</td>\n",
       "      <td>229.000000</td>\n",
       "    </tr>\n",
       "    <tr>\n",
       "      <th>mean</th>\n",
       "      <td>4.458515</td>\n",
       "      <td>9.419214</td>\n",
       "      <td>2.166667</td>\n",
       "      <td>40.734118</td>\n",
       "      <td>-73.980362</td>\n",
       "    </tr>\n",
       "    <tr>\n",
       "      <th>std</th>\n",
       "      <td>1.013843</td>\n",
       "      <td>19.508180</td>\n",
       "      <td>0.983192</td>\n",
       "      <td>0.134455</td>\n",
       "      <td>0.197153</td>\n",
       "    </tr>\n",
       "    <tr>\n",
       "      <th>min</th>\n",
       "      <td>1.000000</td>\n",
       "      <td>1.000000</td>\n",
       "      <td>1.000000</td>\n",
       "      <td>39.997654</td>\n",
       "      <td>-74.827410</td>\n",
       "    </tr>\n",
       "    <tr>\n",
       "      <th>25%</th>\n",
       "      <td>4.500000</td>\n",
       "      <td>1.000000</td>\n",
       "      <td>2.000000</td>\n",
       "      <td>40.692350</td>\n",
       "      <td>-74.005845</td>\n",
       "    </tr>\n",
       "    <tr>\n",
       "      <th>50%</th>\n",
       "      <td>5.000000</td>\n",
       "      <td>4.000000</td>\n",
       "      <td>2.000000</td>\n",
       "      <td>40.738155</td>\n",
       "      <td>-73.985506</td>\n",
       "    </tr>\n",
       "    <tr>\n",
       "      <th>75%</th>\n",
       "      <td>5.000000</td>\n",
       "      <td>9.000000</td>\n",
       "      <td>2.000000</td>\n",
       "      <td>40.759098</td>\n",
       "      <td>-73.944420</td>\n",
       "    </tr>\n",
       "    <tr>\n",
       "      <th>max</th>\n",
       "      <td>5.000000</td>\n",
       "      <td>165.000000</td>\n",
       "      <td>4.000000</td>\n",
       "      <td>41.596960</td>\n",
       "      <td>-73.232599</td>\n",
       "    </tr>\n",
       "  </tbody>\n",
       "</table>\n",
       "</div>"
      ],
      "text/plain": [
       "           Rating  Review Count     Price    Latitude   Longitude\n",
       "count  229.000000    229.000000  6.000000  229.000000  229.000000\n",
       "mean     4.458515      9.419214  2.166667   40.734118  -73.980362\n",
       "std      1.013843     19.508180  0.983192    0.134455    0.197153\n",
       "min      1.000000      1.000000  1.000000   39.997654  -74.827410\n",
       "25%      4.500000      1.000000  2.000000   40.692350  -74.005845\n",
       "50%      5.000000      4.000000  2.000000   40.738155  -73.985506\n",
       "75%      5.000000      9.000000  2.000000   40.759098  -73.944420\n",
       "max      5.000000    165.000000  4.000000   41.596960  -73.232599"
      ]
     },
     "execution_count": 6,
     "metadata": {},
     "output_type": "execute_result"
    }
   ],
   "source": [
    "df_fp_ny.describe() # Descriptive Stats for NYC"
   ]
  },
  {
   "cell_type": "code",
   "execution_count": 7,
   "metadata": {
    "scrolled": false
   },
   "outputs": [
    {
     "data": {
      "text/html": [
       "<div>\n",
       "<style scoped>\n",
       "    .dataframe tbody tr th:only-of-type {\n",
       "        vertical-align: middle;\n",
       "    }\n",
       "\n",
       "    .dataframe tbody tr th {\n",
       "        vertical-align: top;\n",
       "    }\n",
       "\n",
       "    .dataframe thead th {\n",
       "        text-align: right;\n",
       "    }\n",
       "</style>\n",
       "<table border=\"1\" class=\"dataframe\">\n",
       "  <thead>\n",
       "    <tr style=\"text-align: right;\">\n",
       "      <th></th>\n",
       "      <th>Rating</th>\n",
       "      <th>Review Count</th>\n",
       "      <th>Price</th>\n",
       "    </tr>\n",
       "  </thead>\n",
       "  <tbody>\n",
       "    <tr>\n",
       "      <th>count</th>\n",
       "      <td>41.000000</td>\n",
       "      <td>41.000000</td>\n",
       "      <td>1.0</td>\n",
       "    </tr>\n",
       "    <tr>\n",
       "      <th>mean</th>\n",
       "      <td>4.317073</td>\n",
       "      <td>2.317073</td>\n",
       "      <td>2.0</td>\n",
       "    </tr>\n",
       "    <tr>\n",
       "      <th>std</th>\n",
       "      <td>1.273558</td>\n",
       "      <td>2.524272</td>\n",
       "      <td>NaN</td>\n",
       "    </tr>\n",
       "    <tr>\n",
       "      <th>min</th>\n",
       "      <td>1.000000</td>\n",
       "      <td>1.000000</td>\n",
       "      <td>2.0</td>\n",
       "    </tr>\n",
       "    <tr>\n",
       "      <th>25%</th>\n",
       "      <td>4.000000</td>\n",
       "      <td>1.000000</td>\n",
       "      <td>2.0</td>\n",
       "    </tr>\n",
       "    <tr>\n",
       "      <th>50%</th>\n",
       "      <td>5.000000</td>\n",
       "      <td>1.000000</td>\n",
       "      <td>2.0</td>\n",
       "    </tr>\n",
       "    <tr>\n",
       "      <th>75%</th>\n",
       "      <td>5.000000</td>\n",
       "      <td>2.000000</td>\n",
       "      <td>2.0</td>\n",
       "    </tr>\n",
       "    <tr>\n",
       "      <th>max</th>\n",
       "      <td>5.000000</td>\n",
       "      <td>14.000000</td>\n",
       "      <td>2.0</td>\n",
       "    </tr>\n",
       "  </tbody>\n",
       "</table>\n",
       "</div>"
      ],
      "text/plain": [
       "          Rating  Review Count  Price\n",
       "count  41.000000     41.000000    1.0\n",
       "mean    4.317073      2.317073    2.0\n",
       "std     1.273558      2.524272    NaN\n",
       "min     1.000000      1.000000    2.0\n",
       "25%     4.000000      1.000000    2.0\n",
       "50%     5.000000      1.000000    2.0\n",
       "75%     5.000000      2.000000    2.0\n",
       "max     5.000000     14.000000    2.0"
      ]
     },
     "execution_count": 7,
     "metadata": {},
     "output_type": "execute_result"
    }
   ],
   "source": [
    "df_fp_ga.describe() # Descriptive Stats for Atlanta"
   ]
  },
  {
   "cell_type": "markdown",
   "metadata": {},
   "source": [
    "### Initial Takeaway"
   ]
  },
  {
   "cell_type": "markdown",
   "metadata": {},
   "source": [
    "After cleaning, we can see a few interesting things to note:\n",
    "- **There are 232 businesses in New York City, 41 in Atlanta, and *at least* 862 in Los Angeles**.\n",
    "\n",
    "  Without jumping to conclusions, both a saturated market and a barren one may have advantages and disadvantages for a startup business.\n",
    "   - A saturated market is very difficult to compete in, but we may be able to benefit by offering services that are *parallel* to businesses that are thriving there. E.g., we offer equipment rentals near a company that offers production services, or vice-versa. \n",
    "   - Additionally, were we to survive in the market to the point where we could scale, there are a multitude of other businesses close by that offer a variety of products or services that we may absorb to become a conglomerate. With there being such quantity and variety, we are more likely to find a company to buy that will fill in our needs precisely.\n",
    "   - A market with sparse industry is only easy to compete in if there is a demand for our services. If there is demand, we could quickly grow to become the pinnacle of industry in that locale. If there is none, we starve.\n",
    "\n",
    "- **The mean rating for film production businesses are highest in Los Angeles**.\n",
    "  - Popularity aside, the key takeaway here is that, on average, the film production businesses are more beloved in LA than in either NYC or Atlanta.\n",
    "    - It will be more difficult to get customers in this market, as customers here are already happy with what they have.\n",
    "- By contrast, the average rating for film production businesses in New York are only marginally higher than in Atlanta.\n",
    "  - NYC offers a larger market for film than Atlanta, while simultaneously having businesses that are negligibly more beloved.\n",
    "\n",
    "- **The Review Count for businesses in New York have by far the highest standard deviation from the mean.**\n",
    "  - Were we to plot businesses in NYC on a map and look at their review counts, we would see that there is a large disparity between how frequented the most popular production businesses are from the least frequented, all over the city.\n",
    "  - Were we to open up shop in NYC, we *must* consider where we are opening business carefully! We could easily position ourselves next to a large production business that offers *different* services to ~~leech~~ develop a symbiotic relationship where their clients become our customers.\n",
    "  - Conversely, businesses that are less frequented could be in a comercial dead-zone (and we should stay away from that precise area), *or* could simply not be good at attracting customers (and we could easily outcompete).\n",
    "  \n",
    "- There are not very many businesses that have a price listed with our dataset. This is unfortunate, as that data could be used to see how customer perception of how expensive a business is relates to the business's location, its popularity, and how loved it is by its customers."
   ]
  },
  {
   "cell_type": "markdown",
   "metadata": {},
   "source": [
    "Several fields are less useful for quantitative analysis, but help with identifying the business and seeing how Yelp manages their profiles.\n",
    "\n",
    "**Location information** may be useful at some points after looking at the statistical data. Between regions, we can group our insights by region and compare how one compares to the others. Locally, we can compare businesses and see how proximity to other businesses, proximity to the population of consumers, and geographical qualities make an impact. \n",
    "\n",
    "For **quantitative analysis**, we have three primary areas to compare among businesses:\n",
    "- **Price** — a measure of how expensive the business's products or services are, in the eyes of the Yelp reviewer/customer.\n",
    "- **Review Count** — a measure of how *popular* the business is.\n",
    "- **Rating** — a measure of how *beloved* the business is."
   ]
  },
  {
   "cell_type": "markdown",
   "metadata": {},
   "source": [
    "# Price"
   ]
  },
  {
   "cell_type": "markdown",
   "metadata": {},
   "source": [
    "When evaluating our dataframes, it appears we have a lot of ```NaN``` values in the price column. Yelp actually lists their price with $ (which, of course, is not a number), but this has been corrected for in our ```parse_data(_)``` function, so every NaN is in fact an empty cell. Let's see how much data we have to work with if we drop the NaN values."
   ]
  },
  {
   "cell_type": "code",
   "execution_count": 8,
   "metadata": {},
   "outputs": [
    {
     "name": "stdout",
     "output_type": "stream",
     "text": [
      "With NaNs:  (229, 862, 41) Without NaNs:  (6, 22, 1)\n"
     ]
    }
   ],
   "source": [
    "print('With NaNs: ',(len(df_fp_ny), len(df_fp_la), len(df_fp_ga)), 'Without NaNs: ',(len(df_fp_ny.dropna()), len(df_fp_la.dropna()), len(df_fp_ga.dropna())))"
   ]
  },
  {
   "cell_type": "markdown",
   "metadata": {},
   "source": [
    "Yikes. That really limits our insight in to how these places compare as far as costs go! But lets see what we can take away with what we have."
   ]
  },
  {
   "cell_type": "markdown",
   "metadata": {},
   "source": [
    "#### Total Businesses per each Price Category\n",
    "While price data is limited to a small sample of the population of our datasets, were we able to extrapolate this data to the population, we would have some insights. Los Angeles, for example, seems to be very competitive at lower price brackets.\n",
    "\n",
    "\n",
    "This would make competing in such an environment as a start-up far more difficult, until we scale to the point to where we can secure talent and the ability to provide high-level services that are worthy of 4-dollar-sign prices. <br>\n",
    "\n",
    "Looking at the total results per location's Yelp call is also informative. <br>\n",
    "If the total number of production houses in Atlanta are much lower than the total in NYC and LA, then the market might be too saturated in the larger cities, making it difficult for new competition. \n",
    "\n",
    "Beyond the scope of this project, there are some other considerations that could be taken, such as: \n",
    "- commercial real estate prices per location (possibly through other API such as Zilliow)\n",
    "- other costs of doing business per location\n",
    "- resources available per location that will help in starting a business, i.e:\n",
    "  - other businesses that may be resources to ours\n",
    "  - tax incentives for film industry\n",
    "  - a business-friendly regulator relationship"
   ]
  },
  {
   "cell_type": "code",
   "execution_count": 11,
   "metadata": {
    "scrolled": false
   },
   "outputs": [
    {
     "data": {
      "image/png": "[encoded data removed]",
      "text/plain": [
       "<Figure size 432x432 with 1 Axes>"
      ]
     },
     "metadata": {
      "needs_background": "light"
     },
     "output_type": "display_data"
    }
   ],
   "source": [
    "price_review_cnt_title = 'Film Production \\n Number of Businesses per Price for each Location'\n",
    "x_label = 'Price'\n",
    "y_label = 'Total Businesses'\n",
    "width = .25\n",
    "\n",
    "\n",
    "x1 = df_fp_ny['Price'].dropna().value_counts().sort_index().index[:4]\n",
    "y1 = df_fp_ny['Price'].dropna().value_counts().sort_index()\n",
    "\n",
    "x2 = df_fp_la['Price'].dropna().value_counts().sort_index().index[:4]\n",
    "y2 = df_fp_la['Price'].dropna().value_counts().sort_index()\n",
    "\n",
    "x3 = df_fp_ga['Price'].dropna().value_counts().sort_index().index[:4]\n",
    "y3 = df_fp_ga['Price'].dropna().value_counts().sort_index()\n",
    "\n",
    "# xtik = [1, 2, 3, 4]\n",
    "\n",
    "fig, ax = plt.subplots(figsize=(6,6))\n",
    "\n",
    "ax.set_xlabel(x_label)\n",
    "ax.set_ylabel(y_label);\n",
    "ax.set_xticks([1, 2, 3, 4])\n",
    "# ax.set_xticks(['$'*i for i in xtik])\n",
    "\n",
    "ax.bar(x1-(width), y1, width, color = '#1F77B4', align='center')\n",
    "ax.bar(x2, y2, width, color=\"#FF7F0E\", align= 'center')\n",
    "ax.bar(x3+(width), y3, width, color=\"#2CA02C\", align= 'center')\n",
    "ax.set_title(price_review_cnt_title)\n",
    "ax.set_facecolor(\"#f2f2f2\")\n",
    "\n",
    "ax.legend(['NYC', 'LA', 'ATL']);"
   ]
  },
  {
   "cell_type": "code",
   "execution_count": 12,
   "metadata": {},
   "outputs": [
    {
     "name": "stdout",
     "output_type": "stream",
     "text": [
      "2.0 2.0 2.0\n"
     ]
    }
   ],
   "source": [
    "print(df_fp_ny['Price'].median(), df_fp_la['Price'].median(), df_fp_ga['Price'].median())"
   ]
  },
  {
   "cell_type": "code",
   "execution_count": 13,
   "metadata": {},
   "outputs": [
    {
     "data": {
      "text/plain": [
       "0    2.0\n",
       "dtype: float64"
      ]
     },
     "execution_count": 13,
     "metadata": {},
     "output_type": "execute_result"
    }
   ],
   "source": [
    "# df_fp_ny['Price'].mode()\n",
    "# df_fp_la['Price'].mode()\n",
    "df_fp_ga['Price'].mode()"
   ]
  },
  {
   "cell_type": "markdown",
   "metadata": {},
   "source": [
    "### Insights:\n",
    "- Price being listed only for a small sample of the population of our data suggests that insights here are not statistically significant, and could be a misleading representation of film production businesses for these locations.\n",
    "- With that in mind, were we to extrapolate this sample data to population of our larger datasets, we would take away that **all** locations have the most reviews in the *second lowest* (2-\\$) *price bracket* – their *mode*. \n",
    "- This 2-\\$ bracket is also the *median* price bracket for **all** locations. This corrects for any potential outliers, where individual businesses that are not representative of the norm could skew average price for services offered by businesses in this industry."
   ]
  },
  {
   "cell_type": "markdown",
   "metadata": {},
   "source": [
    "### Takeaway\n",
    "These insights indicate that in all locations, we would attract the most customers by targeting the 2-\\$ price range    \n",
    "  - in LA, the market is also fairly competitive in the 1-\\$ price range.\n",
    "  - this would mean that no matter how much we cut our prices in the LA market, there will likely be many other businesses who have priced their services just as low. \n",
    "\n"
   ]
  },
  {
   "cell_type": "markdown",
   "metadata": {},
   "source": [
    "## Rating / Review Count"
   ]
  },
  {
   "cell_type": "code",
   "execution_count": 15,
   "metadata": {
    "scrolled": true
   },
   "outputs": [
    {
     "name": "stdout",
     "output_type": "stream",
     "text": [
      "🥳\n"
     ]
    },
    {
     "data": {
      "image/png": "[encoded data removed]",
      "text/plain": [
       "<Figure size 432x432 with 1 Axes>"
      ]
     },
     "metadata": {
      "needs_background": "light"
     },
     "output_type": "display_data"
    }
   ],
   "source": [
    "rating_review_cnt_title = 'Film Production \\n Relationship Between Rating and Review Count'\n",
    "x_label = 'Rating'\n",
    "y_label = 'Review Count'\n",
    "width = .1\n",
    "\n",
    "x1 = df_fp_ny['Rating']\n",
    "y1 = df_fp_ny['Review Count']\n",
    "\n",
    "x2 = df_fp_la['Rating']\n",
    "y2 = df_fp_la['Review Count']\n",
    "\n",
    "x3 = df_fp_ga['Rating']\n",
    "y3 = df_fp_ga['Review Count']\n",
    "\n",
    "fig, ax = plt.subplots(figsize=(6,6))\n",
    "\n",
    "ax.set_xlabel(x_label)\n",
    "ax.set_ylabel(y_label);\n",
    "ax.set_xticks([1.0, 1.5, 2.0, 2.5, 3.0, 3.5, 4.0, 4.5, 5.0])\n",
    "\n",
    "ax.bar(x1-(width), y1, width, color = '#1F77B4', align='center')\n",
    "ax.bar(x2, y2, width, color ='#FF7F0E', align = 'center')\n",
    "ax.bar(x3+(width), y3, width, color ='#2CA02C', align = 'center')\n",
    "ax.set_title(rating_review_cnt_title)\n",
    "ax.set_facecolor('#f2f2f2')\n",
    "\n",
    "ax.legend(['NYC', 'LA', 'ATL'])\n",
    "print('🥳');"
   ]
  },
  {
   "cell_type": "markdown",
   "metadata": {},
   "source": [
    "In all parameters, Atlanta is still dwarfed by both metropolises. In Los Angeles, there appears to be a continuous increase in review count correlated to an increase in rating until you get to 5.0. Without speculating to why that is without further insight, in planning the creation of a business it is most desirable to fall in the higher rating and higher review count range.  Knowing this and seeing that a majority of successful businesses fall in the 2nd price bracket, lets isolate businesses that have a high-rating in the 2nd price bracket — The best for the median price."
   ]
  },
  {
   "cell_type": "markdown",
   "metadata": {},
   "source": [
    "### The businesses represented on the below plot would be our primary competition or benefactors"
   ]
  },
  {
   "cell_type": "code",
   "execution_count": 16,
   "metadata": {},
   "outputs": [
    {
     "data": {
      "image/png": "[encoded data removed]",
      "text/plain": [
       "<Figure size 1080x360 with 3 Axes>"
      ]
     },
     "metadata": {
      "needs_background": "light"
     },
     "output_type": "display_data"
    }
   ],
   "source": [
    "ny_hr_p2 = df_fp_ny.loc[(df_fp_ny['Rating'] >= 4) & (df_fp_ny['Price'] == 2)]\n",
    "la_hr_p2 = df_fp_la.loc[(df_fp_la['Rating'] >= 4) & (df_fp_la['Price'] == 2)]\n",
    "ga_hr_p2 = df_fp_ga.loc[(df_fp_ga['Rating'] >= 4) & (df_fp_ga['Price'] == 2)]\n",
    "fig, ax = plt.subplots(1, 3, figsize=(15, 5), sharey=True)\n",
    "fig.suptitle('High-Rated Film Production Businesses in the $2 Price Group')\n",
    "# # NY\n",
    "g1 = sns.scatterplot(ax=ax[0], x= ny_hr_p2['Rating'], y= ny_hr_p2['Review Count'].values, color = '#1F77B4')\n",
    "ax[0].set_title('New York')\n",
    "# LA\n",
    "g2 = sns.scatterplot(ax=ax[1], x= la_hr_p2['Rating'], y= la_hr_p2['Review Count'].values, color = '#FF7F0E')\n",
    "ax[1].set_title('Los Angeles')\n",
    "# ATL\n",
    "g3 = sns.scatterplot(ax=ax[2], x= ga_hr_p2['Rating'], y= ga_hr_p2['Review Count'].values, color = '#2CA02C')\n",
    "ax[2].set_title('Atlanta')\n",
    "g1.set_facecolor('#f2f2f2') \n",
    "g2.set_facecolor('#f2f2f2') \n",
    "g3.set_facecolor('#f2f2f2') \n",
    "g1.set_ylabel('Total Review Counts')\n",
    "g1.set_xlabel('NYC High-Rated')\n",
    "g2.set_xlabel('LA High-Rated')\n",
    "g3.set_xlabel('ATL High-Rated')\n",
    "g1.tick_params(bottom=False) \n",
    "g2.tick_params(bottom=False) \n",
    "g3.tick_params(bottom=False);"
   ]
  },
  {
   "cell_type": "markdown",
   "metadata": {},
   "source": [
    "#### ^ Those above that are high on the y-axis are businesses that we have all data for that would be the most difficult to compete with.\n",
    "\n",
    "### THEY ARE OUR UNICORNS\n",
    "- They would also be great businesses to develop parallel services to if we can develop in the same neighborhood.\n",
    "- Alternatively, they would be a great reference model for our business develop far away. <br><br>\n",
    "That's all very useful, but as these would be by definition *only* businesses that list price, we may be missing the bigger picture. <br>\n",
    "What if we were to sort groups in to their subcategories, then reference the data that we have?"
   ]
  },
  {
   "cell_type": "code",
   "execution_count": 20,
   "metadata": {},
   "outputs": [
    {
     "data": {
      "text/plain": [
       "0      [{'alias': 'photographystores', 'title': 'Phot...\n",
       "1      [{'alias': 'videographers', 'title': 'Videogra...\n",
       "2      [{'alias': 'videofilmproductions', 'title': 'V...\n",
       "3      [{'alias': 'videofilmproductions', 'title': 'V...\n",
       "4      [{'alias': 'sessionphotography', 'title': 'Ses...\n",
       "                             ...                        \n",
       "224    [{'alias': 'videographers', 'title': 'Videogra...\n",
       "225    [{'alias': 'employmentagencies', 'title': 'Emp...\n",
       "226    [{'alias': 'talentagencies', 'title': 'Talent ...\n",
       "227    [{'alias': 'videographers', 'title': 'Videogra...\n",
       "228    [{'alias': 'videofilmproductions', 'title': 'V...\n",
       "Name: Categories, Length: 229, dtype: object"
      ]
     },
     "execution_count": 20,
     "metadata": {},
     "output_type": "execute_result"
    }
   ],
   "source": [
    "df_fp_ny['Categories']"
   ]
  },
  {
   "cell_type": "code",
   "execution_count": 22,
   "metadata": {},
   "outputs": [],
   "source": [
    "ny_cats = df_fp_ny.apply(lambda x: x.str.split('\\''), axis=1)"
   ]
  },
  {
   "cell_type": "code",
   "execution_count": 67,
   "metadata": {},
   "outputs": [
    {
     "ename": "TypeError",
     "evalue": "map() got an unexpected keyword argument 'axis'",
     "output_type": "error",
     "traceback": [
      "\u001b[0;31m---------------------------------------------------------------------------\u001b[0m",
      "\u001b[0;31mTypeError\u001b[0m                                 Traceback (most recent call last)",
      "\u001b[0;32m<ipython-input-67-7e2534cc6683>\u001b[0m in \u001b[0;36m<module>\u001b[0;34m\u001b[0m\n\u001b[0;32m----> 1\u001b[0;31m \u001b[0mny_cats\u001b[0m\u001b[0;34m[\u001b[0m\u001b[0;34m'Categories'\u001b[0m\u001b[0;34m]\u001b[0m\u001b[0;34m.\u001b[0m\u001b[0mmap\u001b[0m\u001b[0;34m(\u001b[0m\u001b[0;32mlambda\u001b[0m \u001b[0mx\u001b[0m\u001b[0;34m:\u001b[0m \u001b[0mx\u001b[0m\u001b[0;34m.\u001b[0m\u001b[0mremove\u001b[0m\u001b[0;34m(\u001b[0m\u001b[0;34m','\u001b[0m\u001b[0;34m)\u001b[0m\u001b[0;34m,\u001b[0m \u001b[0maxis\u001b[0m\u001b[0;34m=\u001b[0m\u001b[0;36m1\u001b[0m\u001b[0;34m)\u001b[0m\u001b[0;34m\u001b[0m\u001b[0;34m\u001b[0m\u001b[0m\n\u001b[0m\u001b[1;32m      2\u001b[0m \u001b[0;34m\u001b[0m\u001b[0m\n\u001b[1;32m      3\u001b[0m \u001b[0;31m# for i in ny_cats['Categories']:\u001b[0m\u001b[0;34m\u001b[0m\u001b[0;34m\u001b[0m\u001b[0;34m\u001b[0m\u001b[0m\n\u001b[1;32m      4\u001b[0m \u001b[0;31m# #    ' '' ''\u001b[0m\u001b[0;34m\u001b[0m\u001b[0;34m\u001b[0m\u001b[0;34m\u001b[0m\u001b[0m\n\u001b[1;32m      5\u001b[0m \u001b[0;31m#     i.remove(',')\u001b[0m\u001b[0;34m\u001b[0m\u001b[0;34m\u001b[0m\u001b[0;34m\u001b[0m\u001b[0m\n",
      "\u001b[0;31mTypeError\u001b[0m: map() got an unexpected keyword argument 'axis'"
     ]
    }
   ],
   "source": [
    "ny_cats['Categories'].applymap(lambda x: x.remove(','), axis=1)\n",
    "\n",
    "# for i in ny_cats['Categories']: \n",
    "# #    ' '' ''\n",
    "#     i.remove(',')\n",
    "#     i.remove(':')\n",
    "#     i.remove('},')\n",
    "#     i.remove('{')\n",
    "#     i.remove('[{')\n"
   ]
  },
  {
   "cell_type": "markdown",
   "metadata": {},
   "source": [
    "### Takeaway"
   ]
  },
  {
   "cell_type": "markdown",
   "metadata": {},
   "source": [
    "- From here it should be safe to only consider Los Angeles and New York, with favor given to New York. \n",
    "- Atlanta production & media service companies simply do not have enough insights from Yelp data alone to direct us towards a sound business plan. Without other data, we would simply be speculating.\n",
    "- Los Angeles has plenty, yet with so many offering competitive low prices, it would be far more difficult to find an angle to distinguish us from the competition.\n",
    "- LA's businesses also have a higher mean 'Rating' — they are more beloved and will be difficult to get the customers from ourselves if we offer similar services.\n",
    "- New York also has a large market for media, and while not being as directed towards film, the variety of categories in the creative and commercial space, would likely allow us to find a better angle to maneuver, pivot, and adapt in the market.\n",
    "- We also should not forget the higher standard deviation relating to 'Review Counts' in NYC. See further below."
   ]
  },
  {
   "cell_type": "markdown",
   "metadata": {},
   "source": [
    "Lets take a look at which businesses exactly were high on the y-axis (have a high *'Review Count'*)"
   ]
  },
  {
   "cell_type": "code",
   "execution_count": 54,
   "metadata": {
    "scrolled": true
   },
   "outputs": [
    {
     "data": {
      "text/html": [
       "<div>\n",
       "<style scoped>\n",
       "    .dataframe tbody tr th:only-of-type {\n",
       "        vertical-align: middle;\n",
       "    }\n",
       "\n",
       "    .dataframe tbody tr th {\n",
       "        vertical-align: top;\n",
       "    }\n",
       "\n",
       "    .dataframe thead th {\n",
       "        text-align: right;\n",
       "    }\n",
       "</style>\n",
       "<table border=\"1\" class=\"dataframe\">\n",
       "  <thead>\n",
       "    <tr style=\"text-align: right;\">\n",
       "      <th></th>\n",
       "      <th>Name</th>\n",
       "      <th>Address</th>\n",
       "      <th>City</th>\n",
       "      <th>Rating</th>\n",
       "      <th>Review Count</th>\n",
       "      <th>Coordinates</th>\n",
       "      <th>Price</th>\n",
       "      <th>Id</th>\n",
       "      <th>Categories</th>\n",
       "      <th>Latitude</th>\n",
       "      <th>Longitude</th>\n",
       "    </tr>\n",
       "  </thead>\n",
       "  <tbody>\n",
       "    <tr>\n",
       "      <th>0</th>\n",
       "      <td>DiJiFi</td>\n",
       "      <td>['1166 Manhattan Ave', 'Ste 201', 'Brooklyn, N...</td>\n",
       "      <td>Brooklyn</td>\n",
       "      <td>4.5</td>\n",
       "      <td>165</td>\n",
       "      <td>{'latitude': 40.7382584, 'longitude': -73.9549...</td>\n",
       "      <td>2.0</td>\n",
       "      <td>CwBYC8nVLbG7KjVU6nwR4A</td>\n",
       "      <td>[{'alias': 'photographystores', 'title': 'Phot...</td>\n",
       "      <td>40.738258</td>\n",
       "      <td>-73.954948</td>\n",
       "    </tr>\n",
       "    <tr>\n",
       "      <th>100</th>\n",
       "      <td>Transfer City USA</td>\n",
       "      <td>['77 Lincoln Ave', 'Staten Island, NY 10306']</td>\n",
       "      <td>Staten Island</td>\n",
       "      <td>5.0</td>\n",
       "      <td>4</td>\n",
       "      <td>{'latitude': 40.580222, 'longitude': -74.109705}</td>\n",
       "      <td>2.0</td>\n",
       "      <td>s2jNO0Zz1NUNTct02ZntrA</td>\n",
       "      <td>[{'alias': 'photographystores', 'title': 'Phot...</td>\n",
       "      <td>40.580222</td>\n",
       "      <td>-74.109705</td>\n",
       "    </tr>\n",
       "    <tr>\n",
       "      <th>207</th>\n",
       "      <td>Hi Tech Studios</td>\n",
       "      <td>['10 Grace Ave', 'Great Neck, NY 11021']</td>\n",
       "      <td>Great Neck</td>\n",
       "      <td>5.0</td>\n",
       "      <td>6</td>\n",
       "      <td>{'latitude': 40.7881851196289, 'longitude': -7...</td>\n",
       "      <td>2.0</td>\n",
       "      <td>zTYY9V8rTg9WBX1z5jcW0A</td>\n",
       "      <td>[{'alias': 'photographystores', 'title': 'Phot...</td>\n",
       "      <td>40.788185</td>\n",
       "      <td>-73.727928</td>\n",
       "    </tr>\n",
       "  </tbody>\n",
       "</table>\n",
       "</div>"
      ],
      "text/plain": [
       "                  Name                                            Address  \\\n",
       "0               DiJiFi  ['1166 Manhattan Ave', 'Ste 201', 'Brooklyn, N...   \n",
       "100  Transfer City USA      ['77 Lincoln Ave', 'Staten Island, NY 10306']   \n",
       "207    Hi Tech Studios           ['10 Grace Ave', 'Great Neck, NY 11021']   \n",
       "\n",
       "              City  Rating  Review Count  \\\n",
       "0         Brooklyn     4.5           165   \n",
       "100  Staten Island     5.0             4   \n",
       "207     Great Neck     5.0             6   \n",
       "\n",
       "                                           Coordinates  Price  \\\n",
       "0    {'latitude': 40.7382584, 'longitude': -73.9549...    2.0   \n",
       "100   {'latitude': 40.580222, 'longitude': -74.109705}    2.0   \n",
       "207  {'latitude': 40.7881851196289, 'longitude': -7...    2.0   \n",
       "\n",
       "                         Id  \\\n",
       "0    CwBYC8nVLbG7KjVU6nwR4A   \n",
       "100  s2jNO0Zz1NUNTct02ZntrA   \n",
       "207  zTYY9V8rTg9WBX1z5jcW0A   \n",
       "\n",
       "                                            Categories   Latitude  Longitude  \n",
       "0    [{'alias': 'photographystores', 'title': 'Phot...  40.738258 -73.954948  \n",
       "100  [{'alias': 'photographystores', 'title': 'Phot...  40.580222 -74.109705  \n",
       "207  [{'alias': 'photographystores', 'title': 'Phot...  40.788185 -73.727928  "
      ]
     },
     "execution_count": 54,
     "metadata": {},
     "output_type": "execute_result"
    }
   ],
   "source": [
    "ny_hr_p2"
   ]
  },
  {
   "cell_type": "code",
   "execution_count": 55,
   "metadata": {},
   "outputs": [
    {
     "data": {
      "text/html": [
       "<div>\n",
       "<style scoped>\n",
       "    .dataframe tbody tr th:only-of-type {\n",
       "        vertical-align: middle;\n",
       "    }\n",
       "\n",
       "    .dataframe tbody tr th {\n",
       "        vertical-align: top;\n",
       "    }\n",
       "\n",
       "    .dataframe thead th {\n",
       "        text-align: right;\n",
       "    }\n",
       "</style>\n",
       "<table border=\"1\" class=\"dataframe\">\n",
       "  <thead>\n",
       "    <tr style=\"text-align: right;\">\n",
       "      <th></th>\n",
       "      <th>Name</th>\n",
       "      <th>Address</th>\n",
       "      <th>City</th>\n",
       "      <th>Rating</th>\n",
       "      <th>Review Count</th>\n",
       "      <th>Coordinates</th>\n",
       "      <th>Price</th>\n",
       "      <th>Id</th>\n",
       "      <th>Categories</th>\n",
       "    </tr>\n",
       "  </thead>\n",
       "  <tbody>\n",
       "    <tr>\n",
       "      <th>29</th>\n",
       "      <td>Pro HD Rentals</td>\n",
       "      <td>['2201 Hollywood Way', 'Ste 1', 'Burbank, CA 9...</td>\n",
       "      <td>Burbank</td>\n",
       "      <td>5.0</td>\n",
       "      <td>51</td>\n",
       "      <td>{'latitude': 34.188555, 'longitude': -118.34928}</td>\n",
       "      <td>2.0</td>\n",
       "      <td>-vpcJktTviMd-K9xX-ZPww</td>\n",
       "      <td>[{'alias': 'photographystores', 'title': 'Phot...</td>\n",
       "    </tr>\n",
       "    <tr>\n",
       "      <th>59</th>\n",
       "      <td>Digital Video &amp; Film Lab</td>\n",
       "      <td>['401 Wilshire Blvd', 'Ste 1200', 'Santa Monic...</td>\n",
       "      <td>Santa Monica</td>\n",
       "      <td>5.0</td>\n",
       "      <td>44</td>\n",
       "      <td>{'latitude': 34.01987, 'longitude': -118.49866}</td>\n",
       "      <td>2.0</td>\n",
       "      <td>_F1PHOY4T8cAshignwaHmQ</td>\n",
       "      <td>[{'alias': 'videofilmproductions', 'title': 'V...</td>\n",
       "    </tr>\n",
       "    <tr>\n",
       "      <th>86</th>\n",
       "      <td>Red Studios Hollywood</td>\n",
       "      <td>['846 N Cahuenga Blvd', 'Los Angeles, CA 90038']</td>\n",
       "      <td>Los Angeles</td>\n",
       "      <td>4.0</td>\n",
       "      <td>12</td>\n",
       "      <td>{'latitude': 34.08666, 'longitude': -118.32845}</td>\n",
       "      <td>2.0</td>\n",
       "      <td>JfzILyp_3R0Z_bX-hBLifA</td>\n",
       "      <td>[{'alias': 'photographystores', 'title': 'Phot...</td>\n",
       "    </tr>\n",
       "    <tr>\n",
       "      <th>197</th>\n",
       "      <td>AbelCine</td>\n",
       "      <td>['801 S Main St', 'Burbank, CA 91506']</td>\n",
       "      <td>Burbank</td>\n",
       "      <td>4.0</td>\n",
       "      <td>18</td>\n",
       "      <td>{'latitude': 34.1651614, 'longitude': -118.313...</td>\n",
       "      <td>2.0</td>\n",
       "      <td>pZOz0AZgT6qh5B1ghcVU_g</td>\n",
       "      <td>[{'alias': 'photographystores', 'title': 'Phot...</td>\n",
       "    </tr>\n",
       "    <tr>\n",
       "      <th>366</th>\n",
       "      <td>Argentum</td>\n",
       "      <td>['6844 Vineland Ave', 'North Hollywood, CA 915...</td>\n",
       "      <td>North Hollywood</td>\n",
       "      <td>4.5</td>\n",
       "      <td>96</td>\n",
       "      <td>{'latitude': 34.19516, 'longitude': -118.3697347}</td>\n",
       "      <td>2.0</td>\n",
       "      <td>01b6ADltxHQJPqNJxHYuIA</td>\n",
       "      <td>[{'alias': 'photographystores', 'title': 'Phot...</td>\n",
       "    </tr>\n",
       "    <tr>\n",
       "      <th>481</th>\n",
       "      <td>Makeup By Andi</td>\n",
       "      <td>['Egg Harbor City, CA 90670']</td>\n",
       "      <td>Egg Harbor City</td>\n",
       "      <td>5.0</td>\n",
       "      <td>10</td>\n",
       "      <td>{'latitude': 39.5311584472656, 'longitude': -7...</td>\n",
       "      <td>2.0</td>\n",
       "      <td>g6PSW69IzV60W1zQ1HIl3A</td>\n",
       "      <td>[{'alias': 'makeupartists', 'title': 'Makeup A...</td>\n",
       "    </tr>\n",
       "    <tr>\n",
       "      <th>712</th>\n",
       "      <td>Digital Imaging Center</td>\n",
       "      <td>['10354 Venice Blvd', 'Culver City, CA 90232']</td>\n",
       "      <td>Culver City</td>\n",
       "      <td>4.0</td>\n",
       "      <td>24</td>\n",
       "      <td>{'latitude': 34.0204621, 'longitude': -118.403...</td>\n",
       "      <td>2.0</td>\n",
       "      <td>KEQ2ycgDnMFr6RcZISIOvA</td>\n",
       "      <td>[{'alias': 'photographystores', 'title': 'Phot...</td>\n",
       "    </tr>\n",
       "    <tr>\n",
       "      <th>716</th>\n",
       "      <td>Santa Monica Camera</td>\n",
       "      <td>['630 Wilshire Blvd', 'Santa Monica, CA 90401']</td>\n",
       "      <td>Santa Monica</td>\n",
       "      <td>4.5</td>\n",
       "      <td>98</td>\n",
       "      <td>{'latitude': 34.020926, 'longitude': -118.495542}</td>\n",
       "      <td>2.0</td>\n",
       "      <td>TKsU7kvp8qwkwRKcGtbMoQ</td>\n",
       "      <td>[{'alias': 'photographystores', 'title': 'Phot...</td>\n",
       "    </tr>\n",
       "    <tr>\n",
       "      <th>768</th>\n",
       "      <td>FSP Designs</td>\n",
       "      <td>['331 W Chestnut Ave', 'Monrovia, CA 91016']</td>\n",
       "      <td>Monrovia</td>\n",
       "      <td>5.0</td>\n",
       "      <td>19</td>\n",
       "      <td>{'latitude': 34.142907249859036, 'longitude': ...</td>\n",
       "      <td>2.0</td>\n",
       "      <td>9E65ehtKepVGRgXpQbYUhQ</td>\n",
       "      <td>[{'alias': 'screen_printing_tshirt_printing', ...</td>\n",
       "    </tr>\n",
       "  </tbody>\n",
       "</table>\n",
       "</div>"
      ],
      "text/plain": [
       "                         Name  \\\n",
       "29             Pro HD Rentals   \n",
       "59   Digital Video & Film Lab   \n",
       "86      Red Studios Hollywood   \n",
       "197                  AbelCine   \n",
       "366                  Argentum   \n",
       "481            Makeup By Andi   \n",
       "712    Digital Imaging Center   \n",
       "716       Santa Monica Camera   \n",
       "768               FSP Designs   \n",
       "\n",
       "                                               Address             City  \\\n",
       "29   ['2201 Hollywood Way', 'Ste 1', 'Burbank, CA 9...          Burbank   \n",
       "59   ['401 Wilshire Blvd', 'Ste 1200', 'Santa Monic...     Santa Monica   \n",
       "86    ['846 N Cahuenga Blvd', 'Los Angeles, CA 90038']      Los Angeles   \n",
       "197             ['801 S Main St', 'Burbank, CA 91506']          Burbank   \n",
       "366  ['6844 Vineland Ave', 'North Hollywood, CA 915...  North Hollywood   \n",
       "481                      ['Egg Harbor City, CA 90670']  Egg Harbor City   \n",
       "712     ['10354 Venice Blvd', 'Culver City, CA 90232']      Culver City   \n",
       "716    ['630 Wilshire Blvd', 'Santa Monica, CA 90401']     Santa Monica   \n",
       "768       ['331 W Chestnut Ave', 'Monrovia, CA 91016']         Monrovia   \n",
       "\n",
       "     Rating  Review Count                                        Coordinates  \\\n",
       "29      5.0            51   {'latitude': 34.188555, 'longitude': -118.34928}   \n",
       "59      5.0            44    {'latitude': 34.01987, 'longitude': -118.49866}   \n",
       "86      4.0            12    {'latitude': 34.08666, 'longitude': -118.32845}   \n",
       "197     4.0            18  {'latitude': 34.1651614, 'longitude': -118.313...   \n",
       "366     4.5            96  {'latitude': 34.19516, 'longitude': -118.3697347}   \n",
       "481     5.0            10  {'latitude': 39.5311584472656, 'longitude': -7...   \n",
       "712     4.0            24  {'latitude': 34.0204621, 'longitude': -118.403...   \n",
       "716     4.5            98  {'latitude': 34.020926, 'longitude': -118.495542}   \n",
       "768     5.0            19  {'latitude': 34.142907249859036, 'longitude': ...   \n",
       "\n",
       "     Price                      Id  \\\n",
       "29     2.0  -vpcJktTviMd-K9xX-ZPww   \n",
       "59     2.0  _F1PHOY4T8cAshignwaHmQ   \n",
       "86     2.0  JfzILyp_3R0Z_bX-hBLifA   \n",
       "197    2.0  pZOz0AZgT6qh5B1ghcVU_g   \n",
       "366    2.0  01b6ADltxHQJPqNJxHYuIA   \n",
       "481    2.0  g6PSW69IzV60W1zQ1HIl3A   \n",
       "712    2.0  KEQ2ycgDnMFr6RcZISIOvA   \n",
       "716    2.0  TKsU7kvp8qwkwRKcGtbMoQ   \n",
       "768    2.0  9E65ehtKepVGRgXpQbYUhQ   \n",
       "\n",
       "                                            Categories  \n",
       "29   [{'alias': 'photographystores', 'title': 'Phot...  \n",
       "59   [{'alias': 'videofilmproductions', 'title': 'V...  \n",
       "86   [{'alias': 'photographystores', 'title': 'Phot...  \n",
       "197  [{'alias': 'photographystores', 'title': 'Phot...  \n",
       "366  [{'alias': 'photographystores', 'title': 'Phot...  \n",
       "481  [{'alias': 'makeupartists', 'title': 'Makeup A...  \n",
       "712  [{'alias': 'photographystores', 'title': 'Phot...  \n",
       "716  [{'alias': 'photographystores', 'title': 'Phot...  \n",
       "768  [{'alias': 'screen_printing_tshirt_printing', ...  "
      ]
     },
     "execution_count": 55,
     "metadata": {},
     "output_type": "execute_result"
    }
   ],
   "source": [
    "la_hr_p2"
   ]
  },
  {
   "cell_type": "code",
   "execution_count": 56,
   "metadata": {},
   "outputs": [
    {
     "data": {
      "text/html": [
       "<div>\n",
       "<style scoped>\n",
       "    .dataframe tbody tr th:only-of-type {\n",
       "        vertical-align: middle;\n",
       "    }\n",
       "\n",
       "    .dataframe tbody tr th {\n",
       "        vertical-align: top;\n",
       "    }\n",
       "\n",
       "    .dataframe thead th {\n",
       "        text-align: right;\n",
       "    }\n",
       "</style>\n",
       "<table border=\"1\" class=\"dataframe\">\n",
       "  <thead>\n",
       "    <tr style=\"text-align: right;\">\n",
       "      <th></th>\n",
       "      <th>Name</th>\n",
       "      <th>Address</th>\n",
       "      <th>City</th>\n",
       "      <th>Rating</th>\n",
       "      <th>Review Count</th>\n",
       "      <th>Coordinates</th>\n",
       "      <th>Price</th>\n",
       "      <th>Id</th>\n",
       "      <th>Categories</th>\n",
       "    </tr>\n",
       "  </thead>\n",
       "  <tbody>\n",
       "    <tr>\n",
       "      <th>33</th>\n",
       "      <td>Fallen Arrows</td>\n",
       "      <td>['50 Waverly Way', 'Atlanta, GA 30307']</td>\n",
       "      <td>Atlanta</td>\n",
       "      <td>4.0</td>\n",
       "      <td>14</td>\n",
       "      <td>{'latitude': 33.7552254, 'longitude': -84.3575...</td>\n",
       "      <td>2.0</td>\n",
       "      <td>brD9rXHvmpiXLu_0PFtT9w</td>\n",
       "      <td>[{'alias': 'graphicdesign', 'title': 'Graphic ...</td>\n",
       "    </tr>\n",
       "  </tbody>\n",
       "</table>\n",
       "</div>"
      ],
      "text/plain": [
       "             Name                                  Address     City  Rating  \\\n",
       "33  Fallen Arrows  ['50 Waverly Way', 'Atlanta, GA 30307']  Atlanta     4.0   \n",
       "\n",
       "    Review Count                                        Coordinates  Price  \\\n",
       "33            14  {'latitude': 33.7552254, 'longitude': -84.3575...    2.0   \n",
       "\n",
       "                        Id                                         Categories  \n",
       "33  brD9rXHvmpiXLu_0PFtT9w  [{'alias': 'graphicdesign', 'title': 'Graphic ...  "
      ]
     },
     "execution_count": 56,
     "metadata": {},
     "output_type": "execute_result"
    }
   ],
   "source": [
    "ga_hr_p2 # Just to compare. Atlanta is out of the running."
   ]
  },
  {
   "cell_type": "markdown",
   "metadata": {},
   "source": [
    "#### Let's reiterate our initial takeaways:"
   ]
  },
  {
   "cell_type": "markdown",
   "metadata": {},
   "source": [
    "    - Were we to plot businesses in NYC on a map and look at their review counts, we would see that there is a large disparity between how frequented the most popular production businesses are from the least frequented, all over the city.\n",
    "    - Were we to open up shop in NYC, we must consider where we are opening business carefully! We could easily position ourselves next to a large production business that offers different services to develop a \n",
    "    symbiotic relationship where their clients become our customers.\n",
    "    - Conversely, businesses that are less frequented could be in a comercial dead-zone (and we should stay away from that precise area), or could simply not be good at attracting customers (and we could easily outcompete)."
   ]
  },
  {
   "cell_type": "markdown",
   "metadata": {},
   "source": [
    "### Let's look at that NYC Unicorn, DiJiFi a little closer:"
   ]
  },
  {
   "cell_type": "code",
   "execution_count": 57,
   "metadata": {
    "scrolled": false
   },
   "outputs": [
    {
     "data": {
      "text/html": [
       "<div style=\"width:100%;\"><div style=\"position:relative;width:100%;height:0;padding-bottom:60%;\"><span style=\"color:#565656\">Make this Notebook Trusted to load map: File -> Trust Notebook</span><iframe src=\"about:blank\" style=\"position:absolute;width:100%;height:100%;left:0;top:0;border:none !important;\" data-html=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 onload=\"this.contentDocument.open();this.contentDocument.write(atob(this.getAttribute('data-html')));this.contentDocument.close();\" allowfullscreen webkitallowfullscreen mozallowfullscreen></iframe></div></div>"
      ],
      "text/plain": [
       "<folium.folium.Map at 0x7fb379ee4b50>"
      ]
     },
     "execution_count": 57,
     "metadata": {},
     "output_type": "execute_result"
    }
   ],
   "source": [
    "ny_list_lat = df_fp_ny['Latitude'].tolist()\n",
    "ny_list_long = df_fp_ny['Longitude'].tolist()\n",
    "ny_coords = []\n",
    "mapit = None\n",
    "for i in range(len(ny_list_lat)):\n",
    "    ny_coords.append((ny_list_lat[i],ny_list_long[i]))\n",
    "\n",
    "\n",
    "mapit = folium.Map(location=[40.7382584,-73.9549], tiles=\"Stamen Toner\", zoom_start=14)\n",
    "for coord in ny_coords:\n",
    "    folium.Marker(location = [coord[0],coord[1]]).add_to(mapit)\n",
    "folium.Circle(\n",
    "    radius=100,\n",
    "    location=[40.7382584, -73.9549],\n",
    "    popup='DiJiFi',\n",
    "    color=\"crimson\",\n",
    "    fill=False,\n",
    ").add_to(mapit)\n",
    "\n",
    "\n",
    "folium.CircleMarker(\n",
    "    location=[40.7382584, -73.9549],\n",
    "    radius=50,\n",
    "    popup=\"DiJiFi\",\n",
    "    color=\"#1F77B4\",\n",
    "    fill=True,\n",
    "    fill_color=\"#3186cc\",\n",
    "    tooltip = 'DiJiFi',\n",
    ").add_to(mapit)\n",
    "mapit"
   ]
  },
  {
   "cell_type": "code",
   "execution_count": 58,
   "metadata": {
    "scrolled": true
   },
   "outputs": [
    {
     "data": {
      "text/plain": [
       "\"['1166 Manhattan Ave', 'Ste 201', 'Brooklyn, NY 11222']\""
      ]
     },
     "execution_count": 58,
     "metadata": {},
     "output_type": "execute_result"
    }
   ],
   "source": [
    "df_fp_ny.loc[(df_fp_ny['Name'] == 'DiJiFi')]['Address'][0]"
   ]
  },
  {
   "cell_type": "code",
   "execution_count": 59,
   "metadata": {
    "scrolled": false
   },
   "outputs": [
    {
     "data": {
      "text/html": [
       "<div>\n",
       "<style scoped>\n",
       "    .dataframe tbody tr th:only-of-type {\n",
       "        vertical-align: middle;\n",
       "    }\n",
       "\n",
       "    .dataframe tbody tr th {\n",
       "        vertical-align: top;\n",
       "    }\n",
       "\n",
       "    .dataframe thead th {\n",
       "        text-align: right;\n",
       "    }\n",
       "</style>\n",
       "<table border=\"1\" class=\"dataframe\">\n",
       "  <thead>\n",
       "    <tr style=\"text-align: right;\">\n",
       "      <th></th>\n",
       "      <th>Name</th>\n",
       "      <th>Address</th>\n",
       "      <th>City</th>\n",
       "      <th>Rating</th>\n",
       "      <th>Review Count</th>\n",
       "      <th>Coordinates</th>\n",
       "      <th>Price</th>\n",
       "      <th>Id</th>\n",
       "      <th>Categories</th>\n",
       "      <th>Latitude</th>\n",
       "      <th>Longitude</th>\n",
       "    </tr>\n",
       "  </thead>\n",
       "  <tbody>\n",
       "    <tr>\n",
       "      <th>0</th>\n",
       "      <td>DiJiFi</td>\n",
       "      <td>['1166 Manhattan Ave', 'Ste 201', 'Brooklyn, N...</td>\n",
       "      <td>Brooklyn</td>\n",
       "      <td>4.5</td>\n",
       "      <td>165</td>\n",
       "      <td>{'latitude': 40.7382584, 'longitude': -73.9549...</td>\n",
       "      <td>2.0</td>\n",
       "      <td>CwBYC8nVLbG7KjVU6nwR4A</td>\n",
       "      <td>[{'alias': 'photographystores', 'title': 'Phot...</td>\n",
       "      <td>40.738258</td>\n",
       "      <td>-73.954948</td>\n",
       "    </tr>\n",
       "    <tr>\n",
       "      <th>5</th>\n",
       "      <td>590films</td>\n",
       "      <td>['42 West St', 'Ste 301', 'Brooklyn, NY 11222']</td>\n",
       "      <td>Brooklyn</td>\n",
       "      <td>5.0</td>\n",
       "      <td>4</td>\n",
       "      <td>{'latitude': 40.7280427, 'longitude': -73.9588...</td>\n",
       "      <td>NaN</td>\n",
       "      <td>d-qaOdxKdZKe2fXEIl-i3g</td>\n",
       "      <td>[{'alias': 'videofilmproductions', 'title': 'V...</td>\n",
       "      <td>40.728043</td>\n",
       "      <td>-73.958836</td>\n",
       "    </tr>\n",
       "    <tr>\n",
       "      <th>8</th>\n",
       "      <td>Cinema World Studios</td>\n",
       "      <td>['220 Dupont St', 'Brooklyn, NY 11222']</td>\n",
       "      <td>Brooklyn</td>\n",
       "      <td>4.5</td>\n",
       "      <td>2</td>\n",
       "      <td>{'latitude': 40.735954, 'longitude': -73.950508}</td>\n",
       "      <td>NaN</td>\n",
       "      <td>6xZHiBQiaC9o1Jma1BSu7A</td>\n",
       "      <td>[{'alias': 'theater', 'title': 'Performing Art...</td>\n",
       "      <td>40.735954</td>\n",
       "      <td>-73.950508</td>\n",
       "    </tr>\n",
       "    <tr>\n",
       "      <th>87</th>\n",
       "      <td>Broadway Stages</td>\n",
       "      <td>['359 Kingsland Ave', 'Greenpoint, NY 11222']</td>\n",
       "      <td>Greenpoint</td>\n",
       "      <td>4.0</td>\n",
       "      <td>1</td>\n",
       "      <td>{'latitude': 40.7289565103425, 'longitude': -7...</td>\n",
       "      <td>NaN</td>\n",
       "      <td>dzsJhPM7946ymnTr7v_XOQ</td>\n",
       "      <td>[{'alias': 'videofilmproductions', 'title': 'V...</td>\n",
       "      <td>40.728957</td>\n",
       "      <td>-73.942495</td>\n",
       "    </tr>\n",
       "  </tbody>\n",
       "</table>\n",
       "</div>"
      ],
      "text/plain": [
       "                    Name                                            Address  \\\n",
       "0                 DiJiFi  ['1166 Manhattan Ave', 'Ste 201', 'Brooklyn, N...   \n",
       "5               590films    ['42 West St', 'Ste 301', 'Brooklyn, NY 11222']   \n",
       "8   Cinema World Studios            ['220 Dupont St', 'Brooklyn, NY 11222']   \n",
       "87       Broadway Stages      ['359 Kingsland Ave', 'Greenpoint, NY 11222']   \n",
       "\n",
       "          City  Rating  Review Count  \\\n",
       "0     Brooklyn     4.5           165   \n",
       "5     Brooklyn     5.0             4   \n",
       "8     Brooklyn     4.5             2   \n",
       "87  Greenpoint     4.0             1   \n",
       "\n",
       "                                          Coordinates  Price  \\\n",
       "0   {'latitude': 40.7382584, 'longitude': -73.9549...    2.0   \n",
       "5   {'latitude': 40.7280427, 'longitude': -73.9588...    NaN   \n",
       "8    {'latitude': 40.735954, 'longitude': -73.950508}    NaN   \n",
       "87  {'latitude': 40.7289565103425, 'longitude': -7...    NaN   \n",
       "\n",
       "                        Id                                         Categories  \\\n",
       "0   CwBYC8nVLbG7KjVU6nwR4A  [{'alias': 'photographystores', 'title': 'Phot...   \n",
       "5   d-qaOdxKdZKe2fXEIl-i3g  [{'alias': 'videofilmproductions', 'title': 'V...   \n",
       "8   6xZHiBQiaC9o1Jma1BSu7A  [{'alias': 'theater', 'title': 'Performing Art...   \n",
       "87  dzsJhPM7946ymnTr7v_XOQ  [{'alias': 'videofilmproductions', 'title': 'V...   \n",
       "\n",
       "     Latitude  Longitude  \n",
       "0   40.738258 -73.954948  \n",
       "5   40.728043 -73.958836  \n",
       "8   40.735954 -73.950508  \n",
       "87  40.728957 -73.942495  "
      ]
     },
     "execution_count": 59,
     "metadata": {},
     "output_type": "execute_result"
    }
   ],
   "source": [
    "df_fp_ny.loc[(df_fp_ny['Address'].str.contains('11222'))]"
   ]
  },
  {
   "cell_type": "markdown",
   "metadata": {},
   "source": [
    "# Conclusion and Further Considerations"
   ]
  },
  {
   "cell_type": "markdown",
   "metadata": {},
   "source": [
    "There are three total businesses that match our parameters within the same zipcode as DiJiFi. Two are theaters, which serve as rental space for the film industry and serve the performing arts. There is one other, highly-rated, yet low-reviewed film business in the viscinity, 590films.  Information on on their Yelp page suggests they offer film producing and post production services, however they appear to be small and targeting more of a consumer market.\n",
    "\n",
    "Per DiJiFi's information listed on their Yelp landing page, they primarily provide photography & film digitizing services. We could easily provide parallel services, such as renting film & photo equipment, or post-production services such as color-correction, editing, or sound mixing, and attract their clients without stealing them away. Ideally we would be able to begin with the former, as it is easier to build a reputation when it is bolstered by the material, than it is to prove your ability."
   ]
  },
  {
   "cell_type": "markdown",
   "metadata": {},
   "source": [
    "# Our final analysis suggests opening a rental house that provides equipment for film productions & photographers, in the New York City zipcode 11222. "
   ]
  },
  {
   "cell_type": "markdown",
   "metadata": {},
   "source": [
    "### Further considerations in our analysis would include\n",
    "- commercial real estate prices per location (possibly through other APIs such as Zillow)\n",
    "- webscraping the data from websites of our largest competition \n",
    "- other costs of doing business per location\n",
    "- resources available per location that will help in starting a business, i.e:\n",
    "  - other businesses that may be used as resources to ours\n",
    "  - local tax-incentives for film industry\n",
    "- with insights beyond the scope of this project, a business-friendly regulator relationship would be considered"
   ]
  },
  {
   "cell_type": "markdown",
   "metadata": {},
   "source": [
    "<br><br><br><br><br><br><br><br><br><br><br><br>"
   ]
  }
 ],
 "metadata": {
  "kernelspec": {
   "display_name": "Python 3",
   "language": "python",
   "name": "python3"
  },
  "language_info": {
   "codemirror_mode": {
    "name": "ipython",
    "version": 3
   },
   "file_extension": ".py",
   "mimetype": "text/x-python",
   "name": "python",
   "nbconvert_exporter": "python",
   "pygments_lexer": "ipython3",
   "version": "3.8.5"
  },
  "toc": {
   "base_numbering": 1,
   "nav_menu": {},
   "number_sections": true,
   "sideBar": true,
   "skip_h1_title": false,
   "title_cell": "Table of Contents",
   "title_sidebar": "Contents",
   "toc_cell": false,
   "toc_position": {},
   "toc_section_display": true,
   "toc_window_display": false
  },
  "varInspector": {
   "cols": {
    "lenName": 16,
    "lenType": 16,
    "lenVar": 40
   },
   "kernels_config": {
    "python": {
     "delete_cmd_postfix": "",
     "delete_cmd_prefix": "del ",
     "library": "var_list.py",
     "varRefreshCmd": "print(var_dic_list())"
    },
    "r": {
     "delete_cmd_postfix": ") ",
     "delete_cmd_prefix": "rm(",
     "library": "var_list.r",
     "varRefreshCmd": "cat(var_dic_list()) "
    }
   },
   "types_to_exclude": [
    "module",
    "function",
    "builtin_function_or_method",
    "instance",
    "_Feature"
   ],
   "window_display": false
  }
 },
 "nbformat": 4,
 "nbformat_minor": 4
}
